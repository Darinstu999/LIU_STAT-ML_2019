{
 "cells": [
  {
   "cell_type": "code",
   "execution_count": 1,
   "metadata": {},
   "outputs": [
    {
     "data": {
      "text/plain": [
       "'king edward is my father is it be so that the duke senior thou wilt have been the duke and to make him i will make him i do you shall'"
      ]
     },
     "execution_count": 1,
     "metadata": {},
     "output_type": "execute_result"
    }
   ],
   "source": [
    "def get_text(txtFile):\n",
    "    f = open(txtFile)\n",
    "    text = f.read().lower()\n",
    "    for i in '!.?,*':\n",
    "        text = text.replace(i,' ')\n",
    "    return text.split()\n",
    "\n",
    "import numpy as np\n",
    "\n",
    "# when the input is raw=get_text(txtFile) and startWord is defined by user\n",
    "# it returns a list of the Word B's freq followed Word A\n",
    "def follow(raw,startWord):\n",
    "    temp = np.array(raw)\n",
    "    indexTuple = np.where(temp == startWord)\n",
    "    indexList = list(indexTuple)\n",
    "    index1 = [i + 1 for i in indexList]\n",
    "    out = []\n",
    "    for i in index1:\n",
    "        out.append(temp[i].tolist())\n",
    "    out1 = out[0]\n",
    "    \n",
    "    counts = {}\n",
    "\n",
    "    for i in out1:\n",
    "        counts[i] = counts.get(i,0) + 1\n",
    "\n",
    "    iteams = list(counts.items())\n",
    "    return iteams\n",
    "\n",
    "# sideway func\n",
    "def takeSecond(elem):\n",
    "    return elem[1]\n",
    "# from the list above, select one Word as WordB\n",
    "def getB(a):\n",
    "    a.sort(key = takeSecond, reverse = True)\n",
    "    temp = np.random.random()\n",
    "    if temp > 0 and temp < 0.1:\n",
    "        b = a[1][0]\n",
    "    elif temp > 0.1 and temp < 0.3:\n",
    "        b = a[2][0]\n",
    "    elif temp > 0.3 and temp < 0.6:\n",
    "        b = a[3][0]\n",
    "    else:\n",
    "        b = a[4][0]\n",
    "    return b\n",
    "        \n",
    "# set length as input to control the length of output, and give B to A after every loop\n",
    "# generate a list, then use .join to conbine them\n",
    "def gen(txtFile, startWord, length):\n",
    "    \n",
    "    raw = get_text(txtFile)\n",
    "    \n",
    "    out2 = [startWord]\n",
    "    \n",
    "    while len(out2) <= length:\n",
    "        temp = follow(raw,startWord)\n",
    "        wordB = getB(temp)\n",
    "        out2.append(wordB)\n",
    "        startWord = wordB\n",
    "    out2 = ' '.join(out2)\n",
    "    return out2\n",
    "\n",
    "gen(txtFile='/Users/darin/Desktop/python/shakespeare.txt',\n",
    "   startWord='king',\n",
    "   length = 30)"
   ]
  },
  {
   "cell_type": "code",
   "execution_count": null,
   "metadata": {},
   "outputs": [],
   "source": []
  }
 ],
 "metadata": {
  "kernelspec": {
   "display_name": "Python 3",
   "language": "python",
   "name": "python3"
  },
  "language_info": {
   "codemirror_mode": {
    "name": "ipython",
    "version": 3
   },
   "file_extension": ".py",
   "mimetype": "text/x-python",
   "name": "python",
   "nbconvert_exporter": "python",
   "pygments_lexer": "ipython3",
   "version": "3.7.4"
  }
 },
 "nbformat": 4,
 "nbformat_minor": 2
}
